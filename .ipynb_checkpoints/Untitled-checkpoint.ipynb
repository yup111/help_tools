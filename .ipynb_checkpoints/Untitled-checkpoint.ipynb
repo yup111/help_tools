{
 "cells": [
  {
   "cell_type": "code",
   "execution_count": 1,
   "metadata": {},
   "outputs": [],
   "source": [
    "from xlwt import Workbook\n",
    "import xlwt\n",
    "book = Workbook()\n",
    "sheet1 = book.add_sheet('Sheet 1')\n",
    "for i in range(0, 100):\n",
    "    st = xlwt.easyxf('pattern: pattern solid;')\n",
    "    st.pattern.pattern_fore_colour = i\n",
    "    sheet1.write(i % 24, i // 24, 'Test text', st)\n",
    "book.save('simple.xls')"
   ]
  },
  {
   "cell_type": "code",
   "execution_count": null,
   "metadata": {},
   "outputs": [],
   "source": []
  }
 ],
 "metadata": {
  "kernelspec": {
   "display_name": "Python 3",
   "language": "python",
   "name": "python3"
  },
  "language_info": {
   "codemirror_mode": {
    "name": "ipython",
    "version": 3
   },
   "file_extension": ".py",
   "mimetype": "text/x-python",
   "name": "python",
   "nbconvert_exporter": "python",
   "pygments_lexer": "ipython3",
   "version": "3.7.0"
  }
 },
 "nbformat": 4,
 "nbformat_minor": 2
}
