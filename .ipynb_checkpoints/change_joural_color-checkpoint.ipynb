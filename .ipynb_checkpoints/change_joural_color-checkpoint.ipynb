{
 "cells": [
  {
   "cell_type": "code",
   "execution_count": 5,
   "metadata": {},
   "outputs": [],
   "source": [
    "from xlrd import open_workbook\n",
    "\n",
    "path = 'ONL UPL Color Coding Spreadsheet 08272019.xlsx'\n",
    "wb = open_workbook(path)\n",
    "sheet = wb.sheet_by_name(\"Sheet1\")\n",
    "rows, cols = sheet.nrows, sheet.ncols\n",
    "\n",
    "def get_row_color(wb, sheet):\n",
    "    result = {}\n",
    "    rows, cols = sheet.nrows, sheet.ncols\n",
    "    for row in range(rows):\n",
    "        thiscell = sheet.cell(row, cols-2)\n",
    "        if thiscell.value == 'C&G JES':\n",
    "            if sheet.cell(row, 1).value in result:\n",
    "                continue\n",
    "            result[sheet.cell(row, 1).value] = 'C&G JES'\n",
    "        if thiscell.value == 'ERROR JES':\n",
    "            result[sheet.cell(row, 1).value] = 'ERROR JES'\n",
    "    return result\n",
    "\n",
    "result = get_row_color(wb, sheet)"
   ]
  },
  {
   "cell_type": "code",
   "execution_count": 6,
   "metadata": {},
   "outputs": [],
   "source": [
    "from xlwt import Workbook\n",
    "import xlwt\n",
    "book = Workbook()\n",
    "sheet1 = book.add_sheet('Sheet 1')\n",
    "for row in range(rows):\n",
    "    joural_id = sheet.cell(row, 1).value\n",
    "    \n",
    "    for col in range(cols):\n",
    "        thiscell = sheet.cell(row, col)\n",
    "        if col == cols-2:\n",
    "            if joural_id in result:\n",
    "                color = result[joural_id]\n",
    "            else:\n",
    "                color = thiscell.value\n",
    "            sheet1.write(row, col, color)\n",
    "        else:\n",
    "            sheet1.write(row, col, thiscell.value)\n",
    "book.save('sample.xls')"
   ]
  },
  {
   "cell_type": "code",
   "execution_count": null,
   "metadata": {},
   "outputs": [],
   "source": []
  }
 ],
 "metadata": {
  "kernelspec": {
   "display_name": "Python 3",
   "language": "python",
   "name": "python3"
  },
  "language_info": {
   "codemirror_mode": {
    "name": "ipython",
    "version": 3
   },
   "file_extension": ".py",
   "mimetype": "text/x-python",
   "name": "python",
   "nbconvert_exporter": "python",
   "pygments_lexer": "ipython3",
   "version": "3.7.0"
  }
 },
 "nbformat": 4,
 "nbformat_minor": 2
}
