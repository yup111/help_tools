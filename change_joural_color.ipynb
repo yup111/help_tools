{
 "cells": [
  {
   "cell_type": "code",
   "execution_count": 24,
   "metadata": {},
   "outputs": [],
   "source": [
    "from xlrd import open_workbook\n",
    "from xlwt import Workbook\n",
    "import xlwt\n",
    "import os\n",
    "\n",
    "def get_row_color(wb, sheet):\n",
    "    result = {}\n",
    "    rows, cols = sheet.nrows, sheet.ncols\n",
    "    for row in range(rows):\n",
    "        thiscell = sheet.cell(row, cols-3)\n",
    "        if thiscell.value == 'C&G JES':\n",
    "            if sheet.cell(row, 1).value in result:\n",
    "                continue\n",
    "            result[sheet.cell(row, 1).value] = 'C&G JES'\n",
    "        if thiscell.value == 'ERROR JES':\n",
    "            result[sheet.cell(row, 1).value] = 'ERROR JES'\n",
    "    return result"
   ]
  },
  {
   "cell_type": "code",
   "execution_count": 25,
   "metadata": {},
   "outputs": [],
   "source": [
    "def out_put_result(filename, sheet, result):\n",
    "    book = Workbook()\n",
    "    sheet1 = book.add_sheet('Sheet 1')\n",
    "    for row in range(rows):\n",
    "        joural_id = sheet.cell(row, 1).value\n",
    "\n",
    "        for col in range(cols):\n",
    "            thiscell = sheet.cell(row, col)\n",
    "            if col == cols-3:\n",
    "                if joural_id in result:\n",
    "                    color = result[joural_id]\n",
    "                else:\n",
    "                    color = thiscell.value\n",
    "                sheet1.write(row, col, color)\n",
    "            else:\n",
    "                sheet1.write(row, col, thiscell.value)\n",
    "    book.save(filename)"
   ]
  },
  {
   "cell_type": "code",
   "execution_count": 26,
   "metadata": {},
   "outputs": [],
   "source": [
    "for root, dirs, files in os.walk('./input'):\n",
    "    for f in files:\n",
    "        path = os.path.join(root, f)\n",
    "\n",
    "        wb = open_workbook(path)\n",
    "        sheet = wb.sheet_by_name(\"Sheet1\")\n",
    "        rows, cols = sheet.nrows, sheet.ncols\n",
    "        result = get_row_color(wb, sheet)\n",
    "        out_put_result('sample.xls', sheet, result)"
   ]
  },
  {
   "cell_type": "code",
   "execution_count": null,
   "metadata": {},
   "outputs": [],
   "source": []
  }
 ],
 "metadata": {
  "kernelspec": {
   "display_name": "Python 3",
   "language": "python",
   "name": "python3"
  },
  "language_info": {
   "codemirror_mode": {
    "name": "ipython",
    "version": 3
   },
   "file_extension": ".py",
   "mimetype": "text/x-python",
   "name": "python",
   "nbconvert_exporter": "python",
   "pygments_lexer": "ipython3",
   "version": "3.7.0"
  }
 },
 "nbformat": 4,
 "nbformat_minor": 2
}
